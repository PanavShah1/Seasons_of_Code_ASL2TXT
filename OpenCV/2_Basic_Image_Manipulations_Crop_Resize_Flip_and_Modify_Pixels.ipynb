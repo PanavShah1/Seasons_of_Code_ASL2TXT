{
  "nbformat": 4,
  "nbformat_minor": 0,
  "metadata": {
    "colab": {
      "provenance": [],
      "authorship_tag": "ABX9TyMX6E730vgTJRdZdMrhtuXx",
      "include_colab_link": true
    },
    "kernelspec": {
      "name": "python3",
      "display_name": "Python 3"
    },
    "language_info": {
      "name": "python"
    }
  },
  "cells": [
    {
      "cell_type": "markdown",
      "metadata": {
        "id": "view-in-github",
        "colab_type": "text"
      },
      "source": [
        "<a href=\"https://colab.research.google.com/github/PanavShah1/OpenCV/blob/main/2_Basic_Image_Manipulations_Crop_Resize_Flip_and_Modify_Pixels.ipynb\" target=\"_parent\"><img src=\"https://colab.research.google.com/assets/colab-badge.svg\" alt=\"Open In Colab\"/></a>"
      ]
    },
    {
      "cell_type": "code",
      "execution_count": 1,
      "metadata": {
        "id": "mRzbugZoOSkf"
      },
      "outputs": [],
      "source": [
        "import cv2\n",
        "import numpy as np\n",
        "import matplotlib.pyplot as plt\n",
        "from IPython.display import Image"
      ]
    },
    {
      "cell_type": "markdown",
      "source": [
        "## Original Checkerboard image"
      ],
      "metadata": {
        "id": "FDAiJBnkOtc4"
      }
    },
    {
      "cell_type": "code",
      "source": [
        "cb_img = cv2.imread(\"checkerboard.png\", 0)\n",
        "\n",
        "plt.imshow(cb_img, cmap=\"gray\")\n",
        "print(cb_img)\n",
        "print(cb_img.shape)"
      ],
      "metadata": {
        "colab": {
          "base_uri": "https://localhost:8080/",
          "height": 578
        },
        "id": "cxYd8vD9OvvV",
        "outputId": "0f1876e2-d4cf-4ff8-c291-946acc536672"
      },
      "execution_count": 6,
      "outputs": [
        {
          "output_type": "stream",
          "name": "stdout",
          "text": [
            "[[0 0 0 ... 0 0 0]\n",
            " [0 0 0 ... 0 0 0]\n",
            " [0 0 0 ... 0 0 0]\n",
            " ...\n",
            " [0 0 0 ... 0 0 0]\n",
            " [0 0 0 ... 0 0 0]\n",
            " [0 0 0 ... 0 0 0]]\n",
            "(1200, 1200)\n"
          ]
        },
        {
          "output_type": "display_data",
          "data": {
            "text/plain": [
              "<Figure size 640x480 with 1 Axes>"
            ],
            "image/png": "[encoded data removed]"
          },
          "metadata": {}
        }
      ]
    },
    {
      "cell_type": "markdown",
      "source": [
        "## Accessing Individual Pixels"
      ],
      "metadata": {
        "id": "ADBvyMwkO9FJ"
      }
    },
    {
      "cell_type": "code",
      "source": [
        "cb_img[0, 0]"
      ],
      "metadata": {
        "colab": {
          "base_uri": "https://localhost:8080/"
        },
        "id": "V94AsoCYPAWh",
        "outputId": "08b7ef78-516d-4c13-fee3-965efd1ac7bd"
      },
      "execution_count": 5,
      "outputs": [
        {
          "output_type": "execute_result",
          "data": {
            "text/plain": [
              "0"
            ]
          },
          "metadata": {},
          "execution_count": 5
        }
      ]
    },
    {
      "cell_type": "code",
      "source": [
        "cb_img[0, 300]"
      ],
      "metadata": {
        "colab": {
          "base_uri": "https://localhost:8080/"
        },
        "id": "brzRqmn6PFUs",
        "outputId": "a6ff5b35-70d6-4c97-d3e0-f93d42592953"
      },
      "execution_count": 8,
      "outputs": [
        {
          "output_type": "execute_result",
          "data": {
            "text/plain": [
              "255"
            ]
          },
          "metadata": {},
          "execution_count": 8
        }
      ]
    },
    {
      "cell_type": "markdown",
      "source": [
        "## Modiflying Image Pixels"
      ],
      "metadata": {
        "id": "kMlxR0EvPOmB"
      }
    },
    {
      "cell_type": "code",
      "source": [
        "cb_img_copy = cb_img.copy()\n",
        "cb_img_copy[90:150, 90:150] = 200\n",
        "plt.imshow(cb_img_copy, cmap=\"gray\")"
      ],
      "metadata": {
        "colab": {
          "base_uri": "https://localhost:8080/",
          "height": 453
        },
        "id": "8GUeQSgoPSs0",
        "outputId": "aebd324c-af0d-47c0-9766-6cfbd8f7a53a"
      },
      "execution_count": 12,
      "outputs": [
        {
          "output_type": "execute_result",
          "data": {
            "text/plain": [
              "<matplotlib.image.AxesImage at 0x7a7b025c4f10>"
            ]
          },
          "metadata": {},
          "execution_count": 12
        },
        {
          "output_type": "display_data",
          "data": {
            "text/plain": [
              "<Figure size 640x480 with 1 Axes>"
            ],
            "image/png": "[encoded data removed]"
          },
          "metadata": {}
        }
      ]
    },
    {
      "cell_type": "markdown",
      "source": [
        "## Cropping Images"
      ],
      "metadata": {
        "id": "QDyokl7GP1vK"
      }
    },
    {
      "cell_type": "code",
      "source": [
        "img_crop = cb_img[100:400, 100:400]\n",
        "plt.imshow(img_crop, cmap=\"gray\")"
      ],
      "metadata": {
        "colab": {
          "base_uri": "https://localhost:8080/",
          "height": 453
        },
        "id": "uzoqNzj0P2yN",
        "outputId": "15d1790f-f744-4e89-8250-fcdf8e9f2da1"
      },
      "execution_count": 14,
      "outputs": [
        {
          "output_type": "execute_result",
          "data": {
            "text/plain": [
              "<matplotlib.image.AxesImage at 0x7a7b01f70ca0>"
            ]
          },
          "metadata": {},
          "execution_count": 14
        },
        {
          "output_type": "display_data",
          "data": {
            "text/plain": [
              "<Figure size 640x480 with 1 Axes>"
            ],
            "image/png": "[encoded data removed]"
          },
          "metadata": {}
        }
      ]
    },
    {
      "cell_type": "markdown",
      "source": [
        "## Resizing Images"
      ],
      "metadata": {
        "id": "nPR31d1MQBaW"
      }
    },
    {
      "cell_type": "code",
      "source": [
        "resized_img = cv2.resize(img_crop, None, fx=0.5, fy=0.5)\n",
        "plt.imshow(resized_img, cmap=\"gray\")"
      ],
      "metadata": {
        "colab": {
          "base_uri": "https://localhost:8080/",
          "height": 452
        },
        "id": "6at_f1LzQCsF",
        "outputId": "d147c5e9-9b38-4db2-cef8-33886a1144fd"
      },
      "execution_count": 15,
      "outputs": [
        {
          "output_type": "execute_result",
          "data": {
            "text/plain": [
              "<matplotlib.image.AxesImage at 0x7a7b01f55450>"
            ]
          },
          "metadata": {},
          "execution_count": 15
        },
        {
          "output_type": "display_data",
          "data": {
            "text/plain": [
              "<Figure size 640x480 with 1 Axes>"
            ],
            "image/png": "[encoded data removed]"
          },
          "metadata": {}
        }
      ]
    },
    {
      "cell_type": "markdown",
      "source": [
        "### Method 2: Specifying exact size of the output image"
      ],
      "metadata": {
        "id": "UzMzKqUwQQ9r"
      }
    },
    {
      "cell_type": "code",
      "source": [
        "resized_img_2 = cv2.resize(img_crop, (100, 100))\n",
        "plt.imshow(resized_img_2, cmap=\"gray\")"
      ],
      "metadata": {
        "colab": {
          "base_uri": "https://localhost:8080/",
          "height": 451
        },
        "id": "2PVbq-YVQUor",
        "outputId": "8022f980-d1bf-44a6-f549-9b8a38351999"
      },
      "execution_count": 16,
      "outputs": [
        {
          "output_type": "execute_result",
          "data": {
            "text/plain": [
              "<matplotlib.image.AxesImage at 0x7a7b02457e50>"
            ]
          },
          "metadata": {},
          "execution_count": 16
        },
        {
          "output_type": "display_data",
          "data": {
            "text/plain": [
              "<Figure size 640x480 with 1 Axes>"
            ],
            "image/png": "[encoded data removed]"
          },
          "metadata": {}
        }
      ]
    },
    {
      "cell_type": "markdown",
      "source": [
        "## Flipping images"
      ],
      "metadata": {
        "id": "9bbxRju2Qjlp"
      }
    },
    {
      "cell_type": "code",
      "source": [
        "img_flip = cv2.flip(img_crop, 1)\n",
        "plt.imshow(img_flip, cmap=\"gray\")"
      ],
      "metadata": {
        "colab": {
          "base_uri": "https://localhost:8080/",
          "height": 453
        },
        "id": "4o_BTDFcQrQH",
        "outputId": "842a6ce6-b518-428c-a096-974eb4d10085"
      },
      "execution_count": 18,
      "outputs": [
        {
          "output_type": "execute_result",
          "data": {
            "text/plain": [
              "<matplotlib.image.AxesImage at 0x7a7b0237ef80>"
            ]
          },
          "metadata": {},
          "execution_count": 18
        },
        {
          "output_type": "display_data",
          "data": {
            "text/plain": [
              "<Figure size 640x480 with 1 Axes>"
            ],
            "image/png": "[encoded data removed]"
          },
          "metadata": {}
        }
      ]
    }
  ]
}